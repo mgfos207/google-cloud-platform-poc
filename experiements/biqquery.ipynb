{
 "cells": [
  {
   "cell_type": "code",
   "execution_count": 1,
   "metadata": {},
   "outputs": [],
   "source": [
    "from google.cloud import bigquery\n",
    "from google.cloud import storage"
   ]
  },
  {
   "cell_type": "code",
   "execution_count": 2,
   "metadata": {},
   "outputs": [],
   "source": [
    "# !gsutil mv gs://document_ai_expense_mf_output/337290782333419067/*/*.json gs://document_ai_expense_mf_output/5449618045407574658/*/*.json gs://documentai_pipeline_mf_outpit/\n",
    "# !gsutil mv gs://document_ai_expense_mf_output/337290782333419067/*/*.json gs://document_ai_expense_mf_output/"
   ]
  },
  {
   "cell_type": "code",
   "execution_count": 3,
   "metadata": {},
   "outputs": [],
   "source": [
    "client = bigquery.Client()"
   ]
  },
  {
   "cell_type": "code",
   "execution_count": 14,
   "metadata": {},
   "outputs": [],
   "source": [
    "FORMAT = bigquery.SourceFormat.PARQUET\n",
    "TABLE_ID_ENTITIES = \"glossy-premise-439318-d8.receipts24.receipts_expenses_proc_entities\"\n",
    "TABLE_ID_VECTORS = \"glossy-premise-439318-d8.receipts24.receipts_expenses_proc_vectors\""
   ]
  },
  {
   "cell_type": "code",
   "execution_count": 6,
   "metadata": {},
   "outputs": [],
   "source": [
    "job_config = bigquery.LoadJobConfig(\n",
    "source_format=FORMAT,\n",
    "autodetect=True\n",
    ")"
   ]
  },
  {
   "cell_type": "code",
   "execution_count": 11,
   "metadata": {},
   "outputs": [],
   "source": [
    "# GCS_URI = \"gs://document_ai_expense_mf_output/*.json\"\n",
    "GCS_URI_ENTITIES = \"gs://document_ai_expense_mf_output_processed/recepits_entities.parquet\"\n",
    "GCS_URI_VECTORS = \"gs://document_ai_expense_mf_output_processed/receipts_w_vectors.parquet\""
   ]
  },
  {
   "cell_type": "code",
   "execution_count": 8,
   "metadata": {},
   "outputs": [],
   "source": [
    "load_job = client.load_table_from_uri(\n",
    "GCS_URI_ENTITIES, TABLE_ID, job_config=job_config\n",
    ")"
   ]
  },
  {
   "cell_type": "code",
   "execution_count": 9,
   "metadata": {},
   "outputs": [
    {
     "data": {
      "text/plain": [
       "LoadJob<project=glossy-premise-439318-d8, location=us-south1, id=1c3ccdd4-27b2-42b3-990b-05b57fd865ec>"
      ]
     },
     "execution_count": 9,
     "metadata": {},
     "output_type": "execute_result"
    }
   ],
   "source": [
    "load_job.result()"
   ]
  },
  {
   "cell_type": "code",
   "execution_count": 15,
   "metadata": {},
   "outputs": [],
   "source": [
    "load_job = client.load_table_from_uri(\n",
    "GCS_URI_VECTORS, TABLE_ID_VECTORS, job_config=job_config\n",
    ")"
   ]
  },
  {
   "cell_type": "code",
   "execution_count": 16,
   "metadata": {},
   "outputs": [
    {
     "data": {
      "text/plain": [
       "LoadJob<project=glossy-premise-439318-d8, location=us-south1, id=92f606f9-9d13-47ab-bc89-190897bcfde6>"
      ]
     },
     "execution_count": 16,
     "metadata": {},
     "output_type": "execute_result"
    }
   ],
   "source": [
    "load_job.result()"
   ]
  },
  {
   "cell_type": "markdown",
   "metadata": {},
   "source": [
    "We've successfully uploaded data from GCS into BigQuery there are a couple of TODOs that came from this:\n",
    "\n",
    "1. Batch Jobs (Currently erroring out on certain files)\n",
    "2. Post processing of DocumentAI enriched data (perhaps store in a different table outside the current one)"
   ]
  },
  {
   "cell_type": "code",
   "execution_count": null,
   "metadata": {},
   "outputs": [],
   "source": []
  }
 ],
 "metadata": {
  "kernelspec": {
   "display_name": "Python 3.9.20 ('VertexAI')",
   "language": "python",
   "name": "python3"
  },
  "language_info": {
   "codemirror_mode": {
    "name": "ipython",
    "version": 3
   },
   "file_extension": ".py",
   "mimetype": "text/x-python",
   "name": "python",
   "nbconvert_exporter": "python",
   "pygments_lexer": "ipython3",
   "version": "3.9.20"
  },
  "orig_nbformat": 4,
  "vscode": {
   "interpreter": {
    "hash": "20e826243cc1b6f51434590bf2f891679ab188b8ae1ce03a07334a752cb4e4d0"
   }
  }
 },
 "nbformat": 4,
 "nbformat_minor": 2
}
