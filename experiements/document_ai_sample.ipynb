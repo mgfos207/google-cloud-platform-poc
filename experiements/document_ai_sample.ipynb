{
 "cells": [
  {
   "cell_type": "code",
   "execution_count": null,
   "metadata": {},
   "outputs": [],
   "source": [
    "# conda activate VertexAI"
   ]
  },
  {
   "cell_type": "code",
   "execution_count": 3,
   "metadata": {},
   "outputs": [],
   "source": [
    "# import kagglehub\n",
    "\n",
    "# Download latest version\n",
    "# path = kagglehub.dataset_download(\"jenswalter/receipts\")\n",
    "\n",
    "# print(\"Path to dataset files:\", path)"
   ]
  },
  {
   "cell_type": "code",
   "execution_count": 3,
   "metadata": {},
   "outputs": [],
   "source": [
    "from google.api_core.client_options import ClientOptions\n",
    "from google.cloud import documentai  # type: ignore"
   ]
  },
  {
   "cell_type": "code",
   "execution_count": 4,
   "metadata": {},
   "outputs": [],
   "source": [
    "from typing import List"
   ]
  },
  {
   "cell_type": "markdown",
   "metadata": {},
   "source": [
    "### Creating and Processor and Utilizing Created Processor (OCR) to parse PDF file"
   ]
  },
  {
   "cell_type": "code",
   "execution_count": 6,
   "metadata": {},
   "outputs": [],
   "source": [
    "# TODO(developer): Uncomment these variables before running the sample.\n",
    "project_id = \"glossy-premise-439318-d8\"\n",
    "location = \"us\"  # Format is \"us\" or \"eu\"\n",
    "file_path = \"/home/mgfos207/Desktop/PetProjects/DocumentAI/jenswalter/receipts/versions/15/2024/ca/20240909_Hilton.pdf\"\n",
    "processor_display_name = \"INIT_PROCESSOR_MF\" # Must be unique per project, e.g.: \"My Processor\"\n",
    "\n",
    "\n",
    "def quickstart(\n",
    "    project_id: str = \"glossy-premise-439318-d8\",\n",
    "    location: str = \"us\",\n",
    "    file_path: str = \"/home/mgfos207/Desktop/PetProjects/DocumentAI/jenswalter/receipts/versions/15/2024/ca/20240909_Hilton.pdf\",\n",
    "    processor_display_name: str = \"INIT_PROCESSOR_MF\",\n",
    "):\n",
    "    # You must set the `api_endpoint`if you use a location other than \"us\".\n",
    "    opts = ClientOptions(api_endpoint=f\"{location}-documentai.googleapis.com\")\n",
    "\n",
    "    client = documentai.DocumentProcessorServiceClient(client_options=opts)\n",
    "\n",
    "    # The full resource name of the location, e.g.:\n",
    "    # `projects/{project_id}/locations/{location}`\n",
    "    # parent = client.common_location_path(project_id, location)\n",
    "    name = client.processor_path(project_id, location, \"d1b1d9be60cc199\")\n",
    "\n",
    "    # Create a Processor\n",
    "    # processor = client.create_processor(\n",
    "    #     parent=parent,\n",
    "    #     processor=documentai.Processor(\n",
    "    #         type_=\"OCR_PROCESSOR\",  # Refer to https://cloud.google.com/document-ai/docs/create-processor for how to get available processor types\n",
    "    #         display_name=processor_display_name,\n",
    "    #     ),\n",
    "    # )\n",
    "\n",
    "    #get processor name\n",
    "    processor = client.get_processor(name=name)\n",
    "    # Print the processor information\n",
    "    print(f\"Processor Name: {processor.name}\")\n",
    "\n",
    "    # Read the file into memory\n",
    "    with open(file_path, \"rb\") as image:\n",
    "        image_content = image.read()\n",
    "\n",
    "    # Load binary data\n",
    "    raw_document = documentai.RawDocument(\n",
    "        content=image_content,\n",
    "        mime_type=\"application/pdf\",  # Refer to https://cloud.google.com/document-ai/docs/file-types for supported file types\n",
    "    )\n",
    "\n",
    "    # Configure the process request\n",
    "    # `processor.name` is the full resource name of the processor, e.g.:\n",
    "    # `projects/{project_id}/locations/{location}/processors/{processor_id}`\n",
    "    request = documentai.ProcessRequest(name=processor.name, raw_document=raw_document)\n",
    "\n",
    "    result = client.process_document(request=request)\n",
    "\n",
    "    # For a full list of `Document` object attributes, reference this page:\n",
    "    # https://cloud.google.com/document-ai/docs/reference/rest/v1/Document\n",
    "    document = result.document\n",
    "\n",
    "    # Read the text recognition output from the processor\n",
    "    print(\"The document contains the following text:\")\n",
    "    print(document.text)"
   ]
  },
  {
   "cell_type": "code",
   "execution_count": 3,
   "metadata": {},
   "outputs": [],
   "source": [
    "project_id = \"glossy-premise-439318-d8\"\n",
    "location = \"us\"  # Format is \"us\" or \"eu\"\n",
    "file_path = \"/home/mgfos207/Desktop/PetProjects/DocumentAI/jenswalter/receipts/versions/15/2024/ca/20240909_Hilton.pdf\"\n",
    "processor_display_name = \"INIT_PROCESSOR_MF\" # Must be unique per project, e.g.: \"My Processor\"\n",
    "# quickstart(project_id, location, file_path, processor_display_name)"
   ]
  },
  {
   "cell_type": "markdown",
   "metadata": {},
   "source": [
    "### Batch Process Documents from GCS (Google Cloud Storage) and Store Data in a Seperate GCS Bucket"
   ]
  },
  {
   "cell_type": "code",
   "execution_count": 5,
   "metadata": {},
   "outputs": [
    {
     "name": "stdout",
     "output_type": "stream",
     "text": [
      "Waiting for operation projects/93824089870/locations/us/operations/302035705050588268 to complete...\n",
      "Output files:\n",
      "Fetching 302035705050588268/0/applebees_8267120140431-0.json\n",
      "Fetching 302035705050588268/1/beerhaus_20181208_006-0.json\n",
      "Fetching 302035705050588268/2/beerhaus_20181208_007-0.json\n",
      "Fetching 302035705050588268/3/shakeshack_20181208_004-0.json\n",
      "Fetching 302035705050588268/4/sliders-454353423425-0.json\n",
      "Fetching 302035705050588268/5/sw_20181208_005-0.json\n",
      "Fetching 302035705050588268/6/sw_20181208_3630-0.json\n"
     ]
    }
   ],
   "source": [
    "import re\n",
    "from typing import Optional\n",
    "\n",
    "from google.api_core.client_options import ClientOptions\n",
    "from google.api_core.exceptions import InternalServerError\n",
    "from google.api_core.exceptions import RetryError\n",
    "from google.cloud import documentai  # type: ignore\n",
    "from google.cloud import storage\n",
    "\n",
    "\n",
    "\"\"\"\n",
    "project_id = \"glossy-premise-439318-d8\"\n",
    "location = \"us\"  # Format is \"us\" or \"eu\"\n",
    "file_path = \"/home/mgfos207/Desktop/PetProjects/DocumentAI/jenswalter/receipts/versions/15/2024/ca/20240909_Hilton.pdf\"\n",
    "processor_display_name = \"INIT_PROCESSOR_MF\" # Must be unique per project, e.g.: \"My Processor\"\n",
    "\"\"\"\n",
    "# TODO(developer): Uncomment these variables before running the sample.\n",
    "project_id = \"glossy-premise-439318-d8\"\n",
    "location = \"us\" # Format is \"us\" or \"eu\"\n",
    "processor_id = \"d1b1d9be60cc199\" # Create processor before running sample\n",
    "gcs_output_uri = \"gs://document_ai_expense_mf_output_new/\" # Must end with a trailing slash `/`. Format: gs://bucket/directory/subdirectory/\n",
    "# processor_version_id = \"YOUR_PROCESSOR_VERSION_ID\" # Optional. Example: pretrained-ocr-v1.0-2020-09-23\n",
    "processor_version_id = None\n",
    "\n",
    "# TODO(developer): You must specify either `gcs_input_uri` and `mime_type` or `gcs_input_prefix`\n",
    "# gcs_input_uri = \"YOUR_INPUT_URI\" # Format: gs://bucket/directory/file.pdf\n",
    "gcs_input_uri = None\n",
    "input_mime_type = \"application/pdf\"\n",
    "gcs_input_prefix = \"gs://document_ai_input_receipts\" # Format: gs://bucket/directory/\n",
    "# field_mask = \"text,entities,pages.pageNumber\"  # Optional. The fields to return in the Document object.\n",
    "field_mask = None\n",
    "\n",
    "def batch_process_documents(\n",
    "    project_id: str,\n",
    "    location: str,\n",
    "    processor_id: str,\n",
    "    gcs_output_uri: str,\n",
    "    processor_version_id: Optional[str] = None,\n",
    "    gcs_input_uri: Optional[str] = None,\n",
    "    input_mime_type: Optional[str] = None,\n",
    "    gcs_input_prefix: Optional[str] = None,\n",
    "    field_mask: Optional[str] = None,\n",
    "    timeout: int = 400,\n",
    ") -> List[dict]:\n",
    "    # You must set the `api_endpoint` if you use a location other than \"us\".\n",
    "    opts = ClientOptions(api_endpoint=f\"{location}-documentai.googleapis.com\")\n",
    "\n",
    "    client = documentai.DocumentProcessorServiceClient(client_options=opts)\n",
    "\n",
    "    if gcs_input_uri:\n",
    "        # Specify specific GCS URIs to process individual documents\n",
    "        gcs_document = documentai.GcsDocument(\n",
    "            gcs_uri=gcs_input_uri, mime_type=input_mime_type\n",
    "        )\n",
    "        # Load GCS Input URI into a List of document files\n",
    "        gcs_documents = documentai.GcsDocuments(documents=[gcs_document])\n",
    "        input_config = documentai.BatchDocumentsInputConfig(gcs_documents=gcs_documents)\n",
    "    else:\n",
    "        # Specify a GCS URI Prefix to process an entire directory\n",
    "        gcs_prefix = documentai.GcsPrefix(gcs_uri_prefix=gcs_input_prefix)\n",
    "        input_config = documentai.BatchDocumentsInputConfig(gcs_prefix=gcs_prefix)\n",
    "\n",
    "    # Cloud Storage URI for the Output Directory\n",
    "    gcs_output_config = documentai.DocumentOutputConfig.GcsOutputConfig(\n",
    "        gcs_uri=gcs_output_uri, field_mask=field_mask\n",
    "    )\n",
    "\n",
    "    # Where to write results\n",
    "    output_config = documentai.DocumentOutputConfig(gcs_output_config=gcs_output_config)\n",
    "\n",
    "    if processor_version_id:\n",
    "        # The full resource name of the processor version, e.g.:\n",
    "        # projects/{project_id}/locations/{location}/processors/{processor_id}/processorVersions/{processor_version_id}\n",
    "        name = client.processor_version_path(\n",
    "            project_id, location, processor_id, processor_version_id\n",
    "        )\n",
    "    else:\n",
    "        # The full resource name of the processor, e.g.:\n",
    "        # projects/{project_id}/locations/{location}/processors/{processor_id}\n",
    "        name = client.processor_path(project_id, location, processor_id)\n",
    "\n",
    "    request = documentai.BatchProcessRequest(\n",
    "        name=name,\n",
    "        input_documents=input_config,\n",
    "        document_output_config=output_config,\n",
    "    )\n",
    "\n",
    "    # BatchProcess returns a Long Running Operation (LRO)\n",
    "    operation = client.batch_process_documents(request)\n",
    "\n",
    "    # Continually polls the operation until it is complete.\n",
    "    # This could take some time for larger files\n",
    "    # Format: projects/{project_id}/locations/{location}/operations/{operation_id}\n",
    "    try:\n",
    "        print(f\"Waiting for operation {operation.operation.name} to complete...\")\n",
    "        operation.result(timeout=timeout)\n",
    "    # Catch exception when operation doesn't finish before timeout\n",
    "    except (RetryError, InternalServerError) as e:\n",
    "        print(e.message)\n",
    "\n",
    "    # NOTE: Can also use callbacks for asynchronous processing\n",
    "    #\n",
    "    # def my_callback(future):\n",
    "    #   result = future.result()\n",
    "    #\n",
    "    # operation.add_done_callback(my_callback)\n",
    "\n",
    "    # After the operation is complete,\n",
    "    # get output document information from operation metadata\n",
    "    metadata = documentai.BatchProcessMetadata(operation.metadata)\n",
    "\n",
    "    if metadata.state != documentai.BatchProcessMetadata.State.SUCCEEDED:\n",
    "        raise ValueError(f\"Batch Process Failed: {metadata.state_message}\")\n",
    "\n",
    "    storage_client = storage.Client()\n",
    "    documents_list = list()\n",
    "    print(\"Output files:\")\n",
    "    # One process per Input Document\n",
    "    for process in list(metadata.individual_process_statuses):\n",
    "        # output_gcs_destination format: gs://BUCKET/PREFIX/OPERATION_NUMBER/INPUT_FILE_NUMBER/\n",
    "        # The Cloud Storage API requires the bucket name and URI prefix separately\n",
    "        matches = re.match(r\"gs://(.*?)/(.*)\", process.output_gcs_destination)\n",
    "        if not matches:\n",
    "            print(\n",
    "                \"Could not parse output GCS destination:\",\n",
    "                process.output_gcs_destination,\n",
    "            )\n",
    "            continue\n",
    "\n",
    "        output_bucket, output_prefix = matches.groups()\n",
    "\n",
    "        # Get List of Document Objects from the Output Bucket\n",
    "        output_blobs = storage_client.list_blobs(output_bucket, prefix=output_prefix)\n",
    "\n",
    "        # Document AI may output multiple JSON files per source file\n",
    "        for blob in output_blobs:\n",
    "            # Document AI should only output JSON files to GCS\n",
    "            if blob.content_type != \"application/json\":\n",
    "                print(\n",
    "                    f\"Skipping non-supported file: {blob.name} - Mimetype: {blob.content_type}\"\n",
    "                )\n",
    "                continue\n",
    "\n",
    "            # Download JSON File as bytes object and convert to Document Object\n",
    "            print(f\"Fetching {blob.name}\")\n",
    "            document = documentai.Document.from_json(\n",
    "                blob.download_as_bytes(), ignore_unknown_fields=True\n",
    "            )\n",
    "            documents_list.append({\"doc\": document, \"name\": blob.name})\n",
    "\n",
    "    return documents_list\n",
    "    #         # For a full list of Document object attributes, please reference this page:\n",
    "    #         # https://cloud.google.com/python/docs/reference/documentai/latest/google.cloud.documentai_v1.types.Document\n",
    "\n",
    "    #         # Read the text recognition output from the processor\n",
    "    #         print(\"The document contains the following text:\")\n",
    "    #         print(document.text)\n",
    "\n",
    "list_of_docs = batch_process_documents(\n",
    "    project_id,\n",
    "    location,\n",
    "    processor_id,\n",
    "    gcs_output_uri,\n",
    "    processor_version_id,\n",
    "    gcs_input_uri,\n",
    "    input_mime_type,\n",
    "    gcs_input_prefix,\n",
    "    field_mask,\n",
    "    400\n",
    ")"
   ]
  },
  {
   "cell_type": "markdown",
   "metadata": {},
   "source": [
    "### Document Processing\n",
    "\n",
    "This section will extract the insights derived from the DocumentAI API and extract relevant data that can be used in BigQuery for analysis. Additionaly we can use LLM's to summarize the insight not just on a document per document base but also in batches."
   ]
  },
  {
   "cell_type": "code",
   "execution_count": 6,
   "metadata": {},
   "outputs": [
    {
     "name": "stdout",
     "output_type": "stream",
     "text": [
      "7\n"
     ]
    }
   ],
   "source": [
    "print(len(list_of_docs))"
   ]
  },
  {
   "cell_type": "code",
   "execution_count": 7,
   "metadata": {},
   "outputs": [],
   "source": [
    "# list_of_docs[0]"
   ]
  },
  {
   "cell_type": "markdown",
   "metadata": {},
   "source": [
    "Looking at this document it appears that entities that are associated with a confidence less than 50% tend to have noisy results. So what we'll do is filter only the entities that have a 50% confidence or better when identifying valid entities."
   ]
  },
  {
   "cell_type": "code",
   "execution_count": 8,
   "metadata": {},
   "outputs": [],
   "source": [
    "docs_list = list()\n",
    "\n",
    "for document in list_of_docs:\n",
    "    doc = document['doc']\n",
    "    doc_content = [entity for entity in doc.entities if entity.confidence >= .5]\n",
    "    docs_list.append({\"entities\": doc_content, \"text\": doc.text, \"name\": document['name']})"
   ]
  },
  {
   "cell_type": "code",
   "execution_count": 9,
   "metadata": {},
   "outputs": [],
   "source": [
    "# docs_list[1]"
   ]
  },
  {
   "cell_type": "code",
   "execution_count": 10,
   "metadata": {},
   "outputs": [],
   "source": [
    "import pandas as pd\n",
    "import os"
   ]
  },
  {
   "cell_type": "code",
   "execution_count": 11,
   "metadata": {},
   "outputs": [],
   "source": [
    "df = pd.DataFrame(docs_list)"
   ]
  },
  {
   "cell_type": "code",
   "execution_count": 12,
   "metadata": {},
   "outputs": [
    {
     "data": {
      "text/html": [
       "<div>\n",
       "<style scoped>\n",
       "    .dataframe tbody tr th:only-of-type {\n",
       "        vertical-align: middle;\n",
       "    }\n",
       "\n",
       "    .dataframe tbody tr th {\n",
       "        vertical-align: top;\n",
       "    }\n",
       "\n",
       "    .dataframe thead th {\n",
       "        text-align: right;\n",
       "    }\n",
       "</style>\n",
       "<table border=\"1\" class=\"dataframe\">\n",
       "  <thead>\n",
       "    <tr style=\"text-align: right;\">\n",
       "      <th></th>\n",
       "      <th>entities</th>\n",
       "      <th>text</th>\n",
       "      <th>name</th>\n",
       "    </tr>\n",
       "  </thead>\n",
       "  <tbody>\n",
       "    <tr>\n",
       "      <th>0</th>\n",
       "      <td>[text_anchor {\\n  text_segments {\\n    start_i...</td>\n",
       "      <td>MARICELA C\\nTB#21\\nDATE: 12-01-18 TIME: 07:44 ...</td>\n",
       "      <td>4050496363705400313/0/applebees_8267120140431-...</td>\n",
       "    </tr>\n",
       "    <tr>\n",
       "      <th>1</th>\n",
       "      <td>[text_anchor {\\n  text_segments {\\n    start_i...</td>\n",
       "      <td>11/30/2018\\nCheck: 303004\\nServer: Allison T.\\...</td>\n",
       "      <td>4050496363705400313/1/beerhaus_20181208_006-0....</td>\n",
       "    </tr>\n",
       "    <tr>\n",
       "      <th>2</th>\n",
       "      <td>[text_anchor {\\n  text_segments {\\n    start_i...</td>\n",
       "      <td>11/30/2018\\nP\\nBeerHaus\\nCheck: 985278\\nServer...</td>\n",
       "      <td>4050496363705400313/2/beerhaus_20181208_007-0....</td>\n",
       "    </tr>\n",
       "    <tr>\n",
       "      <th>3</th>\n",
       "      <td>[text_anchor {\\n  text_segments {\\n    start_i...</td>\n",
       "      <td>SHAKE SHACK\\n3790 Las Vegas Blvd South\\nHost: ...</td>\n",
       "      <td>4050496363705400313/6/shakeshack_20181208_004-...</td>\n",
       "    </tr>\n",
       "    <tr>\n",
       "      <th>4</th>\n",
       "      <td>[text_anchor {\\n  text_segments {\\n    start_i...</td>\n",
       "      <td>Sliders Diner\\n1202 Sutter Street\\nSan Francis...</td>\n",
       "      <td>4050496363705400313/3/sliders-454353423425-0.json</td>\n",
       "    </tr>\n",
       "  </tbody>\n",
       "</table>\n",
       "</div>"
      ],
      "text/plain": [
       "                                            entities  \\\n",
       "0  [text_anchor {\\n  text_segments {\\n    start_i...   \n",
       "1  [text_anchor {\\n  text_segments {\\n    start_i...   \n",
       "2  [text_anchor {\\n  text_segments {\\n    start_i...   \n",
       "3  [text_anchor {\\n  text_segments {\\n    start_i...   \n",
       "4  [text_anchor {\\n  text_segments {\\n    start_i...   \n",
       "\n",
       "                                                text  \\\n",
       "0  MARICELA C\\nTB#21\\nDATE: 12-01-18 TIME: 07:44 ...   \n",
       "1  11/30/2018\\nCheck: 303004\\nServer: Allison T.\\...   \n",
       "2  11/30/2018\\nP\\nBeerHaus\\nCheck: 985278\\nServer...   \n",
       "3  SHAKE SHACK\\n3790 Las Vegas Blvd South\\nHost: ...   \n",
       "4  Sliders Diner\\n1202 Sutter Street\\nSan Francis...   \n",
       "\n",
       "                                                name  \n",
       "0  4050496363705400313/0/applebees_8267120140431-...  \n",
       "1  4050496363705400313/1/beerhaus_20181208_006-0....  \n",
       "2  4050496363705400313/2/beerhaus_20181208_007-0....  \n",
       "3  4050496363705400313/6/shakeshack_20181208_004-...  \n",
       "4  4050496363705400313/3/sliders-454353423425-0.json  "
      ]
     },
     "execution_count": 12,
     "metadata": {},
     "output_type": "execute_result"
    }
   ],
   "source": [
    "df.head()"
   ]
  },
  {
   "cell_type": "code",
   "execution_count": 13,
   "metadata": {},
   "outputs": [],
   "source": [
    "# for index, row in df.iterrows():\n",
    "#     file_name = f\"./processed/{}\""
   ]
  },
  {
   "cell_type": "code",
   "execution_count": 14,
   "metadata": {},
   "outputs": [],
   "source": [
    "import vertexai\n",
    "from vertexai.language_models import TextEmbeddingModel"
   ]
  },
  {
   "cell_type": "code",
   "execution_count": 15,
   "metadata": {},
   "outputs": [],
   "source": [
    "PROJECT_ID = \"glossy-premise-439318-d8\"\n",
    "REGION = \"us-central1\"\n",
    "MODEL_ID = \"text-embedding-004\""
   ]
  },
  {
   "cell_type": "code",
   "execution_count": 16,
   "metadata": {},
   "outputs": [],
   "source": [
    "vertexai.init(project=PROJECT_ID, location=REGION)"
   ]
  },
  {
   "cell_type": "code",
   "execution_count": 17,
   "metadata": {},
   "outputs": [],
   "source": [
    "model = TextEmbeddingModel.from_pretrained(MODEL_ID)"
   ]
  },
  {
   "cell_type": "code",
   "execution_count": 22,
   "metadata": {},
   "outputs": [],
   "source": [
    "def apply_embeddings(text:str):\n",
    "    return model.get_embeddings([text])\n",
    "\n",
    "df['embedded_text'] = df['text'].apply(apply_embeddings)\n",
    "\n"
   ]
  },
  {
   "cell_type": "code",
   "execution_count": 23,
   "metadata": {},
   "outputs": [
    {
     "data": {
      "text/html": [
       "<div>\n",
       "<style scoped>\n",
       "    .dataframe tbody tr th:only-of-type {\n",
       "        vertical-align: middle;\n",
       "    }\n",
       "\n",
       "    .dataframe tbody tr th {\n",
       "        vertical-align: top;\n",
       "    }\n",
       "\n",
       "    .dataframe thead th {\n",
       "        text-align: right;\n",
       "    }\n",
       "</style>\n",
       "<table border=\"1\" class=\"dataframe\">\n",
       "  <thead>\n",
       "    <tr style=\"text-align: right;\">\n",
       "      <th></th>\n",
       "      <th>entities</th>\n",
       "      <th>text</th>\n",
       "      <th>name</th>\n",
       "      <th>embedded_text</th>\n",
       "    </tr>\n",
       "  </thead>\n",
       "  <tbody>\n",
       "    <tr>\n",
       "      <th>0</th>\n",
       "      <td>[text_anchor {\\n  text_segments {\\n    start_i...</td>\n",
       "      <td>MARICELA C\\nTB#21\\nDATE: 12-01-18 TIME: 07:44 ...</td>\n",
       "      <td>10983299351657151161/0/applebees_8267120140431...</td>\n",
       "      <td>[TextEmbedding(values=[0.040389422327280045, 0...</td>\n",
       "    </tr>\n",
       "    <tr>\n",
       "      <th>1</th>\n",
       "      <td>[text_anchor {\\n  text_segments {\\n    start_i...</td>\n",
       "      <td>11/30/2018\\nCheck: 303004\\nServer: Allison T.\\...</td>\n",
       "      <td>10983299351657151161/1/beerhaus_20181208_006-0...</td>\n",
       "      <td>[TextEmbedding(values=[0.08371221274137497, 0....</td>\n",
       "    </tr>\n",
       "    <tr>\n",
       "      <th>2</th>\n",
       "      <td>[text_anchor {\\n  text_segments {\\n    start_i...</td>\n",
       "      <td>11/30/2018\\nP\\nBeerHaus\\nCheck: 985278\\nServer...</td>\n",
       "      <td>10983299351657151161/2/beerhaus_20181208_007-0...</td>\n",
       "      <td>[TextEmbedding(values=[0.04445113241672516, 0....</td>\n",
       "    </tr>\n",
       "    <tr>\n",
       "      <th>3</th>\n",
       "      <td>[text_anchor {\\n  text_segments {\\n    start_i...</td>\n",
       "      <td>SHAKE SHACK\\n3790 Las Vegas Blvd South\\nHost: ...</td>\n",
       "      <td>10983299351657151161/3/shakeshack_20181208_004...</td>\n",
       "      <td>[TextEmbedding(values=[0.026838034391403198, -...</td>\n",
       "    </tr>\n",
       "    <tr>\n",
       "      <th>4</th>\n",
       "      <td>[text_anchor {\\n  text_segments {\\n    start_i...</td>\n",
       "      <td>Sliders Diner\\n1202 Sutter Street\\nSan Francis...</td>\n",
       "      <td>10983299351657151161/4/sliders-454353423425-0....</td>\n",
       "      <td>[TextEmbedding(values=[0.03435202315449715, 0....</td>\n",
       "    </tr>\n",
       "  </tbody>\n",
       "</table>\n",
       "</div>"
      ],
      "text/plain": [
       "                                            entities  \\\n",
       "0  [text_anchor {\\n  text_segments {\\n    start_i...   \n",
       "1  [text_anchor {\\n  text_segments {\\n    start_i...   \n",
       "2  [text_anchor {\\n  text_segments {\\n    start_i...   \n",
       "3  [text_anchor {\\n  text_segments {\\n    start_i...   \n",
       "4  [text_anchor {\\n  text_segments {\\n    start_i...   \n",
       "\n",
       "                                                text  \\\n",
       "0  MARICELA C\\nTB#21\\nDATE: 12-01-18 TIME: 07:44 ...   \n",
       "1  11/30/2018\\nCheck: 303004\\nServer: Allison T.\\...   \n",
       "2  11/30/2018\\nP\\nBeerHaus\\nCheck: 985278\\nServer...   \n",
       "3  SHAKE SHACK\\n3790 Las Vegas Blvd South\\nHost: ...   \n",
       "4  Sliders Diner\\n1202 Sutter Street\\nSan Francis...   \n",
       "\n",
       "                                                name  \\\n",
       "0  10983299351657151161/0/applebees_8267120140431...   \n",
       "1  10983299351657151161/1/beerhaus_20181208_006-0...   \n",
       "2  10983299351657151161/2/beerhaus_20181208_007-0...   \n",
       "3  10983299351657151161/3/shakeshack_20181208_004...   \n",
       "4  10983299351657151161/4/sliders-454353423425-0....   \n",
       "\n",
       "                                       embedded_text  \n",
       "0  [TextEmbedding(values=[0.040389422327280045, 0...  \n",
       "1  [TextEmbedding(values=[0.08371221274137497, 0....  \n",
       "2  [TextEmbedding(values=[0.04445113241672516, 0....  \n",
       "3  [TextEmbedding(values=[0.026838034391403198, -...  \n",
       "4  [TextEmbedding(values=[0.03435202315449715, 0....  "
      ]
     },
     "execution_count": 23,
     "metadata": {},
     "output_type": "execute_result"
    }
   ],
   "source": [
    "df.head()"
   ]
  },
  {
   "cell_type": "code",
   "execution_count": 28,
   "metadata": {},
   "outputs": [],
   "source": [
    "# df.iloc[0]['embedded_text']"
   ]
  },
  {
   "cell_type": "code",
   "execution_count": 29,
   "metadata": {},
   "outputs": [],
   "source": [
    "df['embedded_text'] = df['embedded_text'].apply(lambda x: x[0].values)"
   ]
  },
  {
   "cell_type": "code",
   "execution_count": 30,
   "metadata": {},
   "outputs": [
    {
     "data": {
      "text/html": [
       "<div>\n",
       "<style scoped>\n",
       "    .dataframe tbody tr th:only-of-type {\n",
       "        vertical-align: middle;\n",
       "    }\n",
       "\n",
       "    .dataframe tbody tr th {\n",
       "        vertical-align: top;\n",
       "    }\n",
       "\n",
       "    .dataframe thead th {\n",
       "        text-align: right;\n",
       "    }\n",
       "</style>\n",
       "<table border=\"1\" class=\"dataframe\">\n",
       "  <thead>\n",
       "    <tr style=\"text-align: right;\">\n",
       "      <th></th>\n",
       "      <th>entities</th>\n",
       "      <th>text</th>\n",
       "      <th>name</th>\n",
       "      <th>embedded_text</th>\n",
       "    </tr>\n",
       "  </thead>\n",
       "  <tbody>\n",
       "    <tr>\n",
       "      <th>0</th>\n",
       "      <td>[text_anchor {\\n  text_segments {\\n    start_i...</td>\n",
       "      <td>MARICELA C\\nTB#21\\nDATE: 12-01-18 TIME: 07:44 ...</td>\n",
       "      <td>10983299351657151161/0/applebees_8267120140431...</td>\n",
       "      <td>[0.040389422327280045, 0.021436145529150963, -...</td>\n",
       "    </tr>\n",
       "    <tr>\n",
       "      <th>1</th>\n",
       "      <td>[text_anchor {\\n  text_segments {\\n    start_i...</td>\n",
       "      <td>11/30/2018\\nCheck: 303004\\nServer: Allison T.\\...</td>\n",
       "      <td>10983299351657151161/1/beerhaus_20181208_006-0...</td>\n",
       "      <td>[0.08371221274137497, 0.007932025007903576, 0....</td>\n",
       "    </tr>\n",
       "    <tr>\n",
       "      <th>2</th>\n",
       "      <td>[text_anchor {\\n  text_segments {\\n    start_i...</td>\n",
       "      <td>11/30/2018\\nP\\nBeerHaus\\nCheck: 985278\\nServer...</td>\n",
       "      <td>10983299351657151161/2/beerhaus_20181208_007-0...</td>\n",
       "      <td>[0.04445113241672516, 0.019029725342988968, 0....</td>\n",
       "    </tr>\n",
       "    <tr>\n",
       "      <th>3</th>\n",
       "      <td>[text_anchor {\\n  text_segments {\\n    start_i...</td>\n",
       "      <td>SHAKE SHACK\\n3790 Las Vegas Blvd South\\nHost: ...</td>\n",
       "      <td>10983299351657151161/3/shakeshack_20181208_004...</td>\n",
       "      <td>[0.026838034391403198, -0.004848463460803032, ...</td>\n",
       "    </tr>\n",
       "    <tr>\n",
       "      <th>4</th>\n",
       "      <td>[text_anchor {\\n  text_segments {\\n    start_i...</td>\n",
       "      <td>Sliders Diner\\n1202 Sutter Street\\nSan Francis...</td>\n",
       "      <td>10983299351657151161/4/sliders-454353423425-0....</td>\n",
       "      <td>[0.03435202315449715, 0.03089391253888607, -0....</td>\n",
       "    </tr>\n",
       "  </tbody>\n",
       "</table>\n",
       "</div>"
      ],
      "text/plain": [
       "                                            entities  \\\n",
       "0  [text_anchor {\\n  text_segments {\\n    start_i...   \n",
       "1  [text_anchor {\\n  text_segments {\\n    start_i...   \n",
       "2  [text_anchor {\\n  text_segments {\\n    start_i...   \n",
       "3  [text_anchor {\\n  text_segments {\\n    start_i...   \n",
       "4  [text_anchor {\\n  text_segments {\\n    start_i...   \n",
       "\n",
       "                                                text  \\\n",
       "0  MARICELA C\\nTB#21\\nDATE: 12-01-18 TIME: 07:44 ...   \n",
       "1  11/30/2018\\nCheck: 303004\\nServer: Allison T.\\...   \n",
       "2  11/30/2018\\nP\\nBeerHaus\\nCheck: 985278\\nServer...   \n",
       "3  SHAKE SHACK\\n3790 Las Vegas Blvd South\\nHost: ...   \n",
       "4  Sliders Diner\\n1202 Sutter Street\\nSan Francis...   \n",
       "\n",
       "                                                name  \\\n",
       "0  10983299351657151161/0/applebees_8267120140431...   \n",
       "1  10983299351657151161/1/beerhaus_20181208_006-0...   \n",
       "2  10983299351657151161/2/beerhaus_20181208_007-0...   \n",
       "3  10983299351657151161/3/shakeshack_20181208_004...   \n",
       "4  10983299351657151161/4/sliders-454353423425-0....   \n",
       "\n",
       "                                       embedded_text  \n",
       "0  [0.040389422327280045, 0.021436145529150963, -...  \n",
       "1  [0.08371221274137497, 0.007932025007903576, 0....  \n",
       "2  [0.04445113241672516, 0.019029725342988968, 0....  \n",
       "3  [0.026838034391403198, -0.004848463460803032, ...  \n",
       "4  [0.03435202315449715, 0.03089391253888607, -0....  "
      ]
     },
     "execution_count": 30,
     "metadata": {},
     "output_type": "execute_result"
    }
   ],
   "source": [
    "df.head()"
   ]
  },
  {
   "cell_type": "code",
   "execution_count": 31,
   "metadata": {},
   "outputs": [],
   "source": [
    "for idx, row in df.iterrows():\n",
    "    name = row['name'].split('/')[-1].replace('.json', '')\n",
    "    row[['embedded_text']].to_frame().to_parquet(f\"doc_ai_insights/{name}.parquet\")"
   ]
  },
  {
   "cell_type": "code",
   "execution_count": 32,
   "metadata": {},
   "outputs": [
    {
     "data": {
      "text/plain": [
       "entities         object\n",
       "text             object\n",
       "name             object\n",
       "embedded_text    object\n",
       "dtype: object"
      ]
     },
     "execution_count": 32,
     "metadata": {},
     "output_type": "execute_result"
    }
   ],
   "source": [
    "df.dtypes"
   ]
  },
  {
   "cell_type": "code",
   "execution_count": 88,
   "metadata": {},
   "outputs": [],
   "source": [
    "# df['text'].to_frame().to_parquet(\"test.parquet\")"
   ]
  },
  {
   "cell_type": "code",
   "execution_count": 17,
   "metadata": {},
   "outputs": [],
   "source": [
    "entities_df = df[['entities', 'name']]"
   ]
  },
  {
   "cell_type": "code",
   "execution_count": 18,
   "metadata": {},
   "outputs": [],
   "source": [
    "# entities_df.iloc[0]['entities'][10].properties"
   ]
  },
  {
   "cell_type": "code",
   "execution_count": 20,
   "metadata": {},
   "outputs": [],
   "source": [
    "entities_list = list()\n",
    "for idx, row in entities_df.iterrows():\n",
    "    for entity in row['entities']:\n",
    "        num_entity_props = len(entity.text_anchor.text_segments)\n",
    "        entities_list.append({\"file_name\": row['name'],\"entity_name\": entity.type_, \"text\": entity.mention_text, 'parent_entity_id': None, \"entity_id\": entity.id})\n",
    "        if num_entity_props > 1:\n",
    "            for sub_entity in entity.properties:\n",
    "                entities_list.append({\"file_name\": row['name'], \"entity_name\": sub_entity.type_, \"text\": sub_entity.mention_text, 'parent_entity_id': entity.id, \"entity_id\": sub_entity.id})\n",
    "# entities_list"
   ]
  },
  {
   "cell_type": "code",
   "execution_count": 21,
   "metadata": {},
   "outputs": [],
   "source": [
    "entities_df = pd.DataFrame(entities_list)"
   ]
  },
  {
   "cell_type": "code",
   "execution_count": 22,
   "metadata": {},
   "outputs": [
    {
     "data": {
      "text/html": [
       "<div>\n",
       "<style scoped>\n",
       "    .dataframe tbody tr th:only-of-type {\n",
       "        vertical-align: middle;\n",
       "    }\n",
       "\n",
       "    .dataframe tbody tr th {\n",
       "        vertical-align: top;\n",
       "    }\n",
       "\n",
       "    .dataframe thead th {\n",
       "        text-align: right;\n",
       "    }\n",
       "</style>\n",
       "<table border=\"1\" class=\"dataframe\">\n",
       "  <thead>\n",
       "    <tr style=\"text-align: right;\">\n",
       "      <th></th>\n",
       "      <th>file_name</th>\n",
       "      <th>entity_name</th>\n",
       "      <th>text</th>\n",
       "      <th>parent_entity_id</th>\n",
       "      <th>entity_id</th>\n",
       "    </tr>\n",
       "  </thead>\n",
       "  <tbody>\n",
       "    <tr>\n",
       "      <th>0</th>\n",
       "      <td>4050496363705400313/0/applebees_8267120140431-...</td>\n",
       "      <td>total_tax_amount</td>\n",
       "      <td>9.56</td>\n",
       "      <td>None</td>\n",
       "      <td>0</td>\n",
       "    </tr>\n",
       "    <tr>\n",
       "      <th>1</th>\n",
       "      <td>4050496363705400313/0/applebees_8267120140431-...</td>\n",
       "      <td>net_amount</td>\n",
       "      <td>115.67</td>\n",
       "      <td>None</td>\n",
       "      <td>1</td>\n",
       "    </tr>\n",
       "    <tr>\n",
       "      <th>2</th>\n",
       "      <td>4050496363705400313/0/applebees_8267120140431-...</td>\n",
       "      <td>supplier_address</td>\n",
       "      <td>3340 S. Maryland Parkway\\nLas Vegas, Nevada, 8...</td>\n",
       "      <td>None</td>\n",
       "      <td>2</td>\n",
       "    </tr>\n",
       "    <tr>\n",
       "      <th>3</th>\n",
       "      <td>4050496363705400313/0/applebees_8267120140431-...</td>\n",
       "      <td>total_amount</td>\n",
       "      <td>125.23</td>\n",
       "      <td>None</td>\n",
       "      <td>3</td>\n",
       "    </tr>\n",
       "    <tr>\n",
       "      <th>4</th>\n",
       "      <td>4050496363705400313/0/applebees_8267120140431-...</td>\n",
       "      <td>supplier_name</td>\n",
       "      <td>APPLEBEE'S\\nNEIGHBORHOOD GRILL &amp; BAR</td>\n",
       "      <td>None</td>\n",
       "      <td>4</td>\n",
       "    </tr>\n",
       "  </tbody>\n",
       "</table>\n",
       "</div>"
      ],
      "text/plain": [
       "                                           file_name       entity_name  \\\n",
       "0  4050496363705400313/0/applebees_8267120140431-...  total_tax_amount   \n",
       "1  4050496363705400313/0/applebees_8267120140431-...        net_amount   \n",
       "2  4050496363705400313/0/applebees_8267120140431-...  supplier_address   \n",
       "3  4050496363705400313/0/applebees_8267120140431-...      total_amount   \n",
       "4  4050496363705400313/0/applebees_8267120140431-...     supplier_name   \n",
       "\n",
       "                                                text parent_entity_id  \\\n",
       "0                                               9.56             None   \n",
       "1                                             115.67             None   \n",
       "2  3340 S. Maryland Parkway\\nLas Vegas, Nevada, 8...             None   \n",
       "3                                             125.23             None   \n",
       "4               APPLEBEE'S\\nNEIGHBORHOOD GRILL & BAR             None   \n",
       "\n",
       "  entity_id  \n",
       "0         0  \n",
       "1         1  \n",
       "2         2  \n",
       "3         3  \n",
       "4         4  "
      ]
     },
     "execution_count": 22,
     "metadata": {},
     "output_type": "execute_result"
    }
   ],
   "source": [
    "entities_df.head()"
   ]
  },
  {
   "cell_type": "code",
   "execution_count": 23,
   "metadata": {},
   "outputs": [],
   "source": [
    "entities_df['file_name'] = entities_df['file_name'].apply(lambda x: x.split(\"/\")[-1].replace(\".json\", \"\"))"
   ]
  },
  {
   "cell_type": "code",
   "execution_count": 87,
   "metadata": {},
   "outputs": [],
   "source": [
    "entities_df.to_parquet(\"doc_ai_insights/processed/recepits_entities.parquet\")"
   ]
  },
  {
   "cell_type": "code",
   "execution_count": 24,
   "metadata": {},
   "outputs": [],
   "source": [
    "raw_df = df[['name', 'text']]"
   ]
  },
  {
   "cell_type": "code",
   "execution_count": 25,
   "metadata": {},
   "outputs": [],
   "source": [
    "raw_df['file_name'] = raw_df['name'].apply(lambda x: x.split(\"/\")[-1].replace(\".json\", \"\"))"
   ]
  },
  {
   "cell_type": "code",
   "execution_count": 26,
   "metadata": {},
   "outputs": [],
   "source": [
    "raw_df.drop(columns=['name'], inplace=True)"
   ]
  },
  {
   "cell_type": "code",
   "execution_count": 27,
   "metadata": {},
   "outputs": [],
   "source": [
    "raw_df.to_parquet(\"doc_ai_insights/processed/receipts_raw_text.parquet\")"
   ]
  },
  {
   "cell_type": "code",
   "execution_count": 89,
   "metadata": {},
   "outputs": [],
   "source": [
    "df_vector = df[['name', 'text', 'embedded_text']]"
   ]
  },
  {
   "cell_type": "code",
   "execution_count": 90,
   "metadata": {},
   "outputs": [],
   "source": [
    "df_vector['file_name'] = df_vector['name'].apply(lambda x: x.split(\"/\")[-1].replace(\".json\", \"\"))"
   ]
  },
  {
   "cell_type": "code",
   "execution_count": 93,
   "metadata": {},
   "outputs": [],
   "source": [
    "df_vector.drop(columns=['name'], inplace=True)"
   ]
  },
  {
   "cell_type": "code",
   "execution_count": 94,
   "metadata": {},
   "outputs": [
    {
     "data": {
      "text/html": [
       "<div>\n",
       "<style scoped>\n",
       "    .dataframe tbody tr th:only-of-type {\n",
       "        vertical-align: middle;\n",
       "    }\n",
       "\n",
       "    .dataframe tbody tr th {\n",
       "        vertical-align: top;\n",
       "    }\n",
       "\n",
       "    .dataframe thead th {\n",
       "        text-align: right;\n",
       "    }\n",
       "</style>\n",
       "<table border=\"1\" class=\"dataframe\">\n",
       "  <thead>\n",
       "    <tr style=\"text-align: right;\">\n",
       "      <th></th>\n",
       "      <th>text</th>\n",
       "      <th>embedded_text</th>\n",
       "      <th>file_name</th>\n",
       "    </tr>\n",
       "  </thead>\n",
       "  <tbody>\n",
       "    <tr>\n",
       "      <th>0</th>\n",
       "      <td>MARICELA C\\nTB#21\\nDATE: 12-01-18 TIME: 07:44 ...</td>\n",
       "      <td>[0.040389422327280045, 0.021436145529150963, -...</td>\n",
       "      <td>applebees_8267120140431-0</td>\n",
       "    </tr>\n",
       "    <tr>\n",
       "      <th>1</th>\n",
       "      <td>11/30/2018\\nCheck: 303004\\nServer: Allison T.\\...</td>\n",
       "      <td>[0.08371221274137497, 0.007932025007903576, 0....</td>\n",
       "      <td>beerhaus_20181208_006-0</td>\n",
       "    </tr>\n",
       "    <tr>\n",
       "      <th>2</th>\n",
       "      <td>11/30/2018\\nP\\nBeerHaus\\nCheck: 985278\\nServer...</td>\n",
       "      <td>[0.04445113241672516, 0.019029725342988968, 0....</td>\n",
       "      <td>beerhaus_20181208_007-0</td>\n",
       "    </tr>\n",
       "    <tr>\n",
       "      <th>3</th>\n",
       "      <td>SHAKE SHACK\\n3790 Las Vegas Blvd South\\nHost: ...</td>\n",
       "      <td>[0.026838034391403198, -0.004848463460803032, ...</td>\n",
       "      <td>shakeshack_20181208_004-0</td>\n",
       "    </tr>\n",
       "    <tr>\n",
       "      <th>4</th>\n",
       "      <td>Sliders Diner\\n1202 Sutter Street\\nSan Francis...</td>\n",
       "      <td>[0.03435202315449715, 0.03089391253888607, -0....</td>\n",
       "      <td>sliders-454353423425-0</td>\n",
       "    </tr>\n",
       "  </tbody>\n",
       "</table>\n",
       "</div>"
      ],
      "text/plain": [
       "                                                text  \\\n",
       "0  MARICELA C\\nTB#21\\nDATE: 12-01-18 TIME: 07:44 ...   \n",
       "1  11/30/2018\\nCheck: 303004\\nServer: Allison T.\\...   \n",
       "2  11/30/2018\\nP\\nBeerHaus\\nCheck: 985278\\nServer...   \n",
       "3  SHAKE SHACK\\n3790 Las Vegas Blvd South\\nHost: ...   \n",
       "4  Sliders Diner\\n1202 Sutter Street\\nSan Francis...   \n",
       "\n",
       "                                       embedded_text  \\\n",
       "0  [0.040389422327280045, 0.021436145529150963, -...   \n",
       "1  [0.08371221274137497, 0.007932025007903576, 0....   \n",
       "2  [0.04445113241672516, 0.019029725342988968, 0....   \n",
       "3  [0.026838034391403198, -0.004848463460803032, ...   \n",
       "4  [0.03435202315449715, 0.03089391253888607, -0....   \n",
       "\n",
       "                   file_name  \n",
       "0  applebees_8267120140431-0  \n",
       "1    beerhaus_20181208_006-0  \n",
       "2    beerhaus_20181208_007-0  \n",
       "3  shakeshack_20181208_004-0  \n",
       "4     sliders-454353423425-0  "
      ]
     },
     "execution_count": 94,
     "metadata": {},
     "output_type": "execute_result"
    }
   ],
   "source": [
    "df_vector.head()"
   ]
  },
  {
   "cell_type": "code",
   "execution_count": 96,
   "metadata": {},
   "outputs": [],
   "source": [
    "df_vector.to_parquet(\"doc_ai_insights/processed/receipts_w_vectors.parquet\")"
   ]
  },
  {
   "cell_type": "code",
   "execution_count": 28,
   "metadata": {},
   "outputs": [],
   "source": [
    "storage_client = storage.Client()"
   ]
  },
  {
   "cell_type": "code",
   "execution_count": 29,
   "metadata": {},
   "outputs": [],
   "source": [
    "bucket = storage_client.get_bucket('document_ai_expense_mf_output_processed')\n",
    "\n",
    "blob = bucket.blob('receipts_raw_text.parquet')\n",
    "blob.upload_from_filename('doc_ai_insights/processed/receipts_raw_text.parquet')"
   ]
  },
  {
   "cell_type": "code",
   "execution_count": 100,
   "metadata": {},
   "outputs": [],
   "source": [
    "bucket = storage_client.get_bucket('document_ai_expense_mf_output_processed')\n",
    "\n",
    "blob = bucket.blob('receipts_w_vectors.parquet')\n",
    "blob.upload_from_filename('doc_ai_insights/processed/receipts_w_vectors.parquet')"
   ]
  },
  {
   "cell_type": "code",
   "execution_count": 101,
   "metadata": {},
   "outputs": [],
   "source": [
    "blob = bucket.blob('recepits_entities.parquet')\n",
    "blob.upload_from_filename('doc_ai_insights/processed/recepits_entities.parquet')"
   ]
  },
  {
   "cell_type": "code",
   "execution_count": 7,
   "metadata": {},
   "outputs": [],
   "source": [
    "from google.cloud import bigquery"
   ]
  },
  {
   "cell_type": "code",
   "execution_count": 8,
   "metadata": {},
   "outputs": [],
   "source": [
    "bq_client = bigquery.Client()"
   ]
  },
  {
   "cell_type": "code",
   "execution_count": 9,
   "metadata": {},
   "outputs": [],
   "source": [
    "job_config = bigquery.QueryJobConfig()"
   ]
  },
  {
   "cell_type": "code",
   "execution_count": 6,
   "metadata": {},
   "outputs": [],
   "source": [
    "sql_model = \"\"\"\n",
    "CREATE OR REPLACE MODEL `glossy-premise-439318-d8.vector_poc.embedding_model`\n",
    "  REMOTE WITH CONNECTION `projects/glossy-premise-439318-d8/locations/us/connections/external_connection_poc`\n",
    "  OPTIONS (ENDPOINT = 'text-embedding-004');\n",
    "\"\"\"\n",
    "sql_create_ext_table = \"\"\"\n",
    "CREATE OR REPLACE EXTERNAL TABLE `glossy-premise-439318-d8.vector_poc.receipts_raw_text`\n",
    "WITH CONNECTION `projects/glossy-premise-439318-d8/locations/us/connections/external_connection_poc`\n",
    "OPTIONS(\n",
    "    format=\"PARQUET\",\n",
    "    uris = [\n",
    "        'gs://document_ai_expense_mf_output_processed/receipts_raw_text.parquet'\n",
    "    ]\n",
    ")\n",
    "\n",
    "\"\"\"\n",
    "sql_embed = \"\"\"\n",
    "CREATE OR REPLACE TABLE `glossy-premise-439318-d8.vector_poc.embeddings` AS\n",
    "SELECT * FROM ML.GENERATE_EMBEDDING(\n",
    "  MODEL `vector_poc.embedding_model`,\n",
    "  (\n",
    "    SELECT *, text AS content\n",
    "    FROM `glossy-premise-439318-d8.vector_poc.receipts_raw_text`\n",
    "  )\n",
    ")\n",
    "WHERE LENGTH(ml_generate_embedding_status) = 0;\n",
    "\"\"\"\n",
    "\n",
    "sql_vec_index = \"\"\"\n",
    "CREATE OR REPLACE VECTOR INDEX `receipts_vec` ON\n",
    "`glossy-premise-439318-d8.vector_poc.embeddings`(ml_generate_embedding_result)\n",
    "OPTIONS(\n",
    "  distance_type=\"COSINE\",\n",
    "  index_type=\"IVF\"\n",
    ")\n",
    "\"\"\"\n",
    "\n",
    "sql_vec_query = \"\"\"\n",
    "SELECT query.query, base.file_name\n",
    "FROM VECTOR_SEARCH(\n",
    "   TABLE `glossy-premise-439318-d8.vector_poc.embeddings`, 'ml_generate_embedding_result',\n",
    "   (SELECT ml_generate_embedding_result, content AS query\n",
    "     FROM ML.GENERATE_TEXT_EMBEDDING(\n",
    "         MODEL `vector_poc.embedding_model`,\n",
    "         (SELECT 'applebees' AS content))\n",
    "   ), top_k => 5)\n",
    "\n",
    "\"\"\"\n",
    "\n",
    "sql_vec_big_table = \"\"\"\n",
    "CREATE TABLE `glossy-premise-439318-d8.vector_poc.big_embeddings` AS\n",
    "   SELECT * FROM ML.GENERATE_TEXT_EMBEDDING(\n",
    "     MODEL `vector_poc.embedding_model`,\n",
    "     (SELECT *, abstract AS content\n",
    "       FROM `patents-public-data.google_patents_research.publications`\n",
    "       WHERE LENGTH(abstract) > 0 AND LENGTH(title) > 0 AND country = 'Singapore'))\n",
    "   WHERE ARRAY_LENGTH(text_embedding) > 0;\n",
    "\n",
    "\"\"\"\n",
    "\n",
    "sql_vec_big_index = \"\"\"\n",
    "CREATE VECTOR INDEX patents_index ON vector_poc.big_embeddings(embedding_v1)\n",
    "OPTIONS(distance_type='COSINE', index_type='IVF', ivf_options='{\"num_lists\": 1000}');\n",
    "\"\"\"\n",
    "\n",
    "sql_query_big_table = \"\"\"\n",
    "SELECT query.query, base.publication_number, base.title, base.abstract\n",
    "FROM VECTOR_SEARCH(\n",
    "  TABLE `vector_poc.big_embeddings`, 'text_embedding',\n",
    "  (\n",
    "  SELECT ml_generate_embedding_result, content AS query\n",
    "  FROM ML.GENERATE_EMBEDDING(\n",
    "  MODEL `vector_poc.embedding_model`,\n",
    "  (SELECT 'improving password security' AS content))\n",
    "  ),\n",
    "  top_k => 5, options => '{\"fraction_lists_to_search\": 0.01}')\n",
    "\"\"\""
   ]
  },
  {
   "cell_type": "code",
   "execution_count": 46,
   "metadata": {},
   "outputs": [
    {
     "data": {
      "text/plain": [
       "<google.cloud.bigquery.table.RowIterator at 0x7fd3d64615b0>"
      ]
     },
     "execution_count": 46,
     "metadata": {},
     "output_type": "execute_result"
    }
   ],
   "source": [
    "bq_client.query_and_wait(sql_model)"
   ]
  },
  {
   "cell_type": "code",
   "execution_count": 43,
   "metadata": {},
   "outputs": [
    {
     "data": {
      "text/plain": [
       "<google.cloud.bigquery.table.RowIterator at 0x7fd3d634fa00>"
      ]
     },
     "execution_count": 43,
     "metadata": {},
     "output_type": "execute_result"
    }
   ],
   "source": [
    "bq_client.query_and_wait(sql_create_ext_table, job_config=job_config)"
   ]
  },
  {
   "cell_type": "code",
   "execution_count": 44,
   "metadata": {},
   "outputs": [
    {
     "data": {
      "text/plain": [
       "<google.cloud.bigquery.table.RowIterator at 0x7fd3d6461af0>"
      ]
     },
     "execution_count": 44,
     "metadata": {},
     "output_type": "execute_result"
    }
   ],
   "source": [
    "bq_client.query_and_wait(sql_embed, job_config=job_config)"
   ]
  },
  {
   "cell_type": "code",
   "execution_count": 61,
   "metadata": {},
   "outputs": [
    {
     "data": {
      "text/plain": [
       "<google.cloud.bigquery.table._EmptyRowIterator at 0x7fd3e2b33400>"
      ]
     },
     "execution_count": 61,
     "metadata": {},
     "output_type": "execute_result"
    }
   ],
   "source": [
    "bq_client.query_and_wait(sql_vec_big_table, job_config=job_config)"
   ]
  },
  {
   "cell_type": "code",
   "execution_count": 70,
   "metadata": {},
   "outputs": [
    {
     "data": {
      "text/plain": [
       "<google.cloud.bigquery.table.RowIterator at 0x7fd3c9bf21c0>"
      ]
     },
     "execution_count": 70,
     "metadata": {},
     "output_type": "execute_result"
    }
   ],
   "source": [
    "bq_client.query_and_wait(sql_vec_big_index, job_config=job_config)"
   ]
  },
  {
   "cell_type": "code",
   "execution_count": 17,
   "metadata": {},
   "outputs": [
    {
     "name": "stderr",
     "output_type": "stream",
     "text": [
      "/home/mgfos207/anaconda3/envs/VertexAI/lib/python3.9/site-packages/google/cloud/bigquery/table.py:1727: UserWarning: BigQuery Storage module not found, fetch data with the REST endpoint instead.\n",
      "  warnings.warn(\n"
     ]
    }
   ],
   "source": [
    "df = bq_client.query(sql_query_big_table).to_dataframe()"
   ]
  },
  {
   "cell_type": "code",
   "execution_count": 19,
   "metadata": {},
   "outputs": [
    {
     "data": {
      "text/plain": [
       "(5, 4)"
      ]
     },
     "execution_count": 19,
     "metadata": {},
     "output_type": "execute_result"
    }
   ],
   "source": [
    "df.shape"
   ]
  },
  {
   "cell_type": "code",
   "execution_count": 20,
   "metadata": {},
   "outputs": [
    {
     "data": {
      "text/html": [
       "<div>\n",
       "<style scoped>\n",
       "    .dataframe tbody tr th:only-of-type {\n",
       "        vertical-align: middle;\n",
       "    }\n",
       "\n",
       "    .dataframe tbody tr th {\n",
       "        vertical-align: top;\n",
       "    }\n",
       "\n",
       "    .dataframe thead th {\n",
       "        text-align: right;\n",
       "    }\n",
       "</style>\n",
       "<table border=\"1\" class=\"dataframe\">\n",
       "  <thead>\n",
       "    <tr style=\"text-align: right;\">\n",
       "      <th></th>\n",
       "      <th>query</th>\n",
       "      <th>publication_number</th>\n",
       "      <th>title</th>\n",
       "      <th>abstract</th>\n",
       "    </tr>\n",
       "  </thead>\n",
       "  <tbody>\n",
       "    <tr>\n",
       "      <th>0</th>\n",
       "      <td>improving password security</td>\n",
       "      <td>SG-128634-A1</td>\n",
       "      <td>Active new password entry dialog with compact ...</td>\n",
       "      <td>An active new password entry dialog provides a...</td>\n",
       "    </tr>\n",
       "    <tr>\n",
       "      <th>1</th>\n",
       "      <td>improving password security</td>\n",
       "      <td>SG-10201610585W-A</td>\n",
       "      <td>Passsword management system and process</td>\n",
       "      <td>PASSSWORD MANAGEMENT SYSTEM AND PROCESS There ...</td>\n",
       "    </tr>\n",
       "    <tr>\n",
       "      <th>2</th>\n",
       "      <td>improving password security</td>\n",
       "      <td>SG-148888-A1</td>\n",
       "      <td>Improved system and method for random entry of...</td>\n",
       "      <td>IMPROVED SYSTEM AND METHOD FOR RANDOM ENTRY OF...</td>\n",
       "    </tr>\n",
       "    <tr>\n",
       "      <th>3</th>\n",
       "      <td>improving password security</td>\n",
       "      <td>SG-194267-A1</td>\n",
       "      <td>Method and system for protecting a password du...</td>\n",
       "      <td>A system for providing security for a personal...</td>\n",
       "    </tr>\n",
       "    <tr>\n",
       "      <th>4</th>\n",
       "      <td>improving password security</td>\n",
       "      <td>SG-120868-A1</td>\n",
       "      <td>Data storage device security method and apparatus</td>\n",
       "      <td>Methods for improving security in data storage...</td>\n",
       "    </tr>\n",
       "  </tbody>\n",
       "</table>\n",
       "</div>"
      ],
      "text/plain": [
       "                         query publication_number  \\\n",
       "0  improving password security       SG-128634-A1   \n",
       "1  improving password security  SG-10201610585W-A   \n",
       "2  improving password security       SG-148888-A1   \n",
       "3  improving password security       SG-194267-A1   \n",
       "4  improving password security       SG-120868-A1   \n",
       "\n",
       "                                               title  \\\n",
       "0  Active new password entry dialog with compact ...   \n",
       "1            Passsword management system and process   \n",
       "2  Improved system and method for random entry of...   \n",
       "3  Method and system for protecting a password du...   \n",
       "4  Data storage device security method and apparatus   \n",
       "\n",
       "                                            abstract  \n",
       "0  An active new password entry dialog provides a...  \n",
       "1  PASSSWORD MANAGEMENT SYSTEM AND PROCESS There ...  \n",
       "2  IMPROVED SYSTEM AND METHOD FOR RANDOM ENTRY OF...  \n",
       "3  A system for providing security for a personal...  \n",
       "4  Methods for improving security in data storage...  "
      ]
     },
     "execution_count": 20,
     "metadata": {},
     "output_type": "execute_result"
    }
   ],
   "source": [
    "df.head()"
   ]
  },
  {
   "cell_type": "code",
   "execution_count": 62,
   "metadata": {},
   "outputs": [],
   "source": [
    "# bq_client.query_and_wait(sql_vec_index, job_config=job_config) #Note need at least 5000 records to create index"
   ]
  },
  {
   "cell_type": "code",
   "execution_count": 63,
   "metadata": {},
   "outputs": [],
   "source": [
    "# bq_client.query_and_wait(sql_vec_query, job_config=job_config)"
   ]
  },
  {
   "cell_type": "code",
   "execution_count": null,
   "metadata": {},
   "outputs": [],
   "source": []
  }
 ],
 "metadata": {
  "kernelspec": {
   "display_name": "Python 3.9.13 ('VertexAI')",
   "language": "python",
   "name": "python3"
  },
  "language_info": {
   "codemirror_mode": {
    "name": "ipython",
    "version": 3
   },
   "file_extension": ".py",
   "mimetype": "text/x-python",
   "name": "python",
   "nbconvert_exporter": "python",
   "pygments_lexer": "ipython3",
   "version": "3.9.20"
  },
  "orig_nbformat": 4,
  "vscode": {
   "interpreter": {
    "hash": "20e826243cc1b6f51434590bf2f891679ab188b8ae1ce03a07334a752cb4e4d0"
   }
  }
 },
 "nbformat": 4,
 "nbformat_minor": 2
}
